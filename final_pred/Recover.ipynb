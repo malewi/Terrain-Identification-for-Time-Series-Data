{
 "cells": [
  {
   "cell_type": "code",
   "execution_count": 1,
   "metadata": {},
   "outputs": [
    {
     "name": "stderr",
     "output_type": "stream",
     "text": [
      "Using TensorFlow backend.\n"
     ]
    }
   ],
   "source": [
    "import numpy as np\n",
    "import pandas as pd\n",
    "import random\n",
    "from sklearn import preprocessing\n",
    "from sklearn.model_selection import train_test_split\n",
    "from keras.models import Sequential\n",
    "from keras.layers import Dense, Embedding, Dropout, BatchNormalization\n",
    "from keras.layers import LSTM\n",
    "from keras.optimizers import Adam\n",
    "import matplotlib.pyplot as plt\n",
    "import csv"
   ]
  },
  {
   "cell_type": "code",
   "execution_count": 2,
   "metadata": {},
   "outputs": [],
   "source": [
    "# File   Total add_front add_end\n",
    "# 009_01 9498  358       358\n",
    "# 010_01 12270 48        125\n",
    "# 011_01 12940 353       600\n",
    "# 012_01 11330 308       475"
   ]
  },
  {
   "cell_type": "code",
   "execution_count": 3,
   "metadata": {},
   "outputs": [],
   "source": [
    "add_front = 308\n",
    "add_end = 475\n",
    "subject = '012'\n",
    "numder = '01'\n",
    "rep = 6\n",
    "input_file = 'edit_subject_' + subject + '_' + numder + '__y_prediction_' + str(rep) + '.csv';\n",
    "output_file = 'edit_subject_' + subject + '_' + numder + '__y_prediction_' + str(rep) + '_final.csv';"
   ]
  },
  {
   "cell_type": "code",
   "execution_count": 4,
   "metadata": {},
   "outputs": [],
   "source": [
    "y_pred_label = pd.read_csv(input_file, names=['label']).values"
   ]
  },
  {
   "cell_type": "code",
   "execution_count": 5,
   "metadata": {},
   "outputs": [
    {
     "name": "stdout",
     "output_type": "stream",
     "text": [
      "(10547, 1)\n",
      "(array([0, 1, 2, 3]), array([7952,  642,  841, 1112]))\n",
      "0\n",
      "86\n"
     ]
    }
   ],
   "source": [
    "print(y_pred_label.shape)\n",
    "print(str(np.unique(y_pred_label, return_counts = True)))\n",
    "print(sum(np.squeeze(y_pred_label[0:add_front])))\n",
    "print(sum(np.squeeze(y_pred_label[y_pred_label.shape[0]-add_end:y_pred_label.shape[0]])))"
   ]
  },
  {
   "cell_type": "code",
   "execution_count": 6,
   "metadata": {},
   "outputs": [
    {
     "data": {
      "text/plain": [
       "(10855, 1)"
      ]
     },
     "execution_count": 6,
     "metadata": {},
     "output_type": "execute_result"
    }
   ],
   "source": [
    "for i in range(add_front):\n",
    "    y_pred_label = np.insert(y_pred_label, 0, 0, axis=0)\n",
    "y_pred_label.shape"
   ]
  },
  {
   "cell_type": "code",
   "execution_count": 7,
   "metadata": {},
   "outputs": [],
   "source": [
    "end = y_pred_label.shape[0]"
   ]
  },
  {
   "cell_type": "code",
   "execution_count": 8,
   "metadata": {},
   "outputs": [
    {
     "data": {
      "text/plain": [
       "(11330, 1)"
      ]
     },
     "execution_count": 8,
     "metadata": {},
     "output_type": "execute_result"
    }
   ],
   "source": [
    "for i in range(add_end):\n",
    "    y_pred_label = np.insert(y_pred_label, end, 0, axis=0)\n",
    "y_pred_label.shape"
   ]
  },
  {
   "cell_type": "code",
   "execution_count": 9,
   "metadata": {},
   "outputs": [
    {
     "name": "stdout",
     "output_type": "stream",
     "text": [
      "(11330, 1)\n",
      "(array([0, 1, 2, 3]), array([8735,  642,  841, 1112]))\n",
      "0\n",
      "0\n"
     ]
    }
   ],
   "source": [
    "print(y_pred_label.shape)\n",
    "print(str(np.unique(y_pred_label, return_counts = True)))\n",
    "print(sum(np.squeeze(y_pred_label[0:add_front])))\n",
    "print(sum(np.squeeze(y_pred_label[y_pred_label.shape[0]-add_end:y_pred_label.shape[0]])))"
   ]
  },
  {
   "cell_type": "code",
   "execution_count": 10,
   "metadata": {},
   "outputs": [],
   "source": [
    "outfile = open(output_file,'w')\n",
    "out = csv.writer(outfile)\n",
    "out.writerows(map(lambda x: x, y_pred_label))\n",
    "outfile.close()\n"
   ]
  },
  {
   "cell_type": "code",
   "execution_count": null,
   "metadata": {},
   "outputs": [],
   "source": []
  }
 ],
 "metadata": {
  "kernelspec": {
   "display_name": "Python 3",
   "language": "python",
   "name": "python3"
  },
  "language_info": {
   "codemirror_mode": {
    "name": "ipython",
    "version": 3
   },
   "file_extension": ".py",
   "mimetype": "text/x-python",
   "name": "python",
   "nbconvert_exporter": "python",
   "pygments_lexer": "ipython3",
   "version": "3.6.8"
  }
 },
 "nbformat": 4,
 "nbformat_minor": 2
}
